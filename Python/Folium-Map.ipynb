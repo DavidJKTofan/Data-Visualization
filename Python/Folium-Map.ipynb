{
 "cells": [
  {
   "cell_type": "code",
   "execution_count": 1,
   "metadata": {},
   "outputs": [],
   "source": [
    "# import libraries\n",
    "import folium\n",
    "import pandas as pd\n",
    "import os\n",
    "\n",
    "# Make a data frame with dots to show on the map\n",
    "data = pd.DataFrame({\n",
    "'lat':[40.7596697],\n",
    "'lon':[-73.9745271],\n",
    "'name':['Tourneau Madison Ave and 53rd St']})\n",
    "data\n",
    "\n",
    "# Starting point\n",
    "latitude = 40.7596697\n",
    "longitude = -73.9745271\n",
    "\n",
    "# folium.TileLayer('openstreetmap').add_to(my_map)\n",
    "# Make an empty map, with the starting point\n",
    "m = folium.Map(location=[latitude, longitude], \n",
    "               tiles=\"Stamen Terrain\", \n",
    "               zoom_start=16, \n",
    "               min_zoom=12)  # Stamen Terrain\n",
    "\n",
    "# Add a custom icon\n",
    "from folium.features import CustomIcon\n",
    "url = 'https://mcusercontent.com/ec06556f64a10aa4215684ce2/images/{}'.format\n",
    "icon_image = url('234f291a-9bbb-4684-a7d3-9b083cea673e.png')  # Watch by arif fajar yulianto from the Noun Project\n",
    "#shadow_image = url('shadow.png')\n",
    "icon = CustomIcon(icon_image,\n",
    "                  icon_size=(90, 90),\n",
    "                  icon_anchor=(20, 56),\n",
    "                  #shadow_image=shadow_image,\n",
    "                  #shadow_size=(50, 64),\n",
    "                  #shadow_anchor=(4, 62),\n",
    "                  popup_anchor=(24, -44))\n",
    "\n",
    "# Customize the popup\n",
    "popuptext = data.iloc[0]['name']\n",
    "test = folium.Html(popuptext, script=True)\n",
    "popup = folium.Popup(test, max_width=250,min_width=200, show=True)\n",
    "\n",
    "# I can add marker one by one on the map\n",
    "#for i in range(0,len(data)):\n",
    "folium.Marker([data.iloc[0]['lat'],\n",
    "               data.iloc[0]['lon']],\n",
    "               popup=popup,\n",
    "               icon=icon).add_to(m)  #folium.Icon(color='darkpurple', icon='home', prefix='fa')).add_to(m)\n",
    "\n",
    "#m.fit_bounds([[40.712776, -74.005974]])\n",
    "\n",
    "# Save it as HTML\n",
    "m.save('folium_map_Tourneau.html')"
   ]
  },
  {
   "cell_type": "code",
   "execution_count": null,
   "metadata": {},
   "outputs": [],
   "source": []
  }
 ],
 "metadata": {
  "kernelspec": {
   "display_name": "Python 3",
   "language": "python",
   "name": "python3"
  },
  "language_info": {
   "codemirror_mode": {
    "name": "ipython",
    "version": 3
   },
   "file_extension": ".py",
   "mimetype": "text/x-python",
   "name": "python",
   "nbconvert_exporter": "python",
   "pygments_lexer": "ipython3",
   "version": "3.9.0"
  }
 },
 "nbformat": 4,
 "nbformat_minor": 4
}
