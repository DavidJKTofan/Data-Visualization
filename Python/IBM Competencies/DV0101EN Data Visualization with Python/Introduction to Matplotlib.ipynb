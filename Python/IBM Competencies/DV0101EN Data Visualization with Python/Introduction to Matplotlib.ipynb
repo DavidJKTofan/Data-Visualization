{
 "cells": [
  {
   "cell_type": "markdown",
   "metadata": {},
   "source": [
    "# Putting the Arist Layer to Use"
   ]
  },
  {
   "cell_type": "code",
   "execution_count": 4,
   "metadata": {},
   "outputs": [],
   "source": [
    "from matplotlib.backends.backend_agg import FigureCanvasAgg as FigureCanvas  # import FigureCanvas\n",
    "from matplotlib.figure import Figure  # import Figure artist"
   ]
  },
  {
   "cell_type": "code",
   "execution_count": 5,
   "metadata": {},
   "outputs": [],
   "source": [
    "fig = Figure()\n",
    "canvas = FigureCanvas(fig)"
   ]
  },
  {
   "cell_type": "code",
   "execution_count": 7,
   "metadata": {},
   "outputs": [],
   "source": [
    "# create 10000 random numbers using numpy\n",
    "import numpy as np\n",
    "x = np.random.randn(10000)"
   ]
  },
  {
   "cell_type": "code",
   "execution_count": 8,
   "metadata": {},
   "outputs": [],
   "source": [
    "ax = fig.add_subplot(111)  # create an axes artist with 1 row and 1 column using the first cell"
   ]
  },
  {
   "cell_type": "code",
   "execution_count": 9,
   "metadata": {},
   "outputs": [
    {
     "data": {
      "text/plain": [
       "(array([  1.,   0.,   1.,   0.,   0.,   0.,   1.,   3.,   0.,   1.,   6.,\n",
       "          2.,   4.,   9.,  13.,  12.,  14.,  31.,  26.,  31.,  39.,  58.,\n",
       "         38.,  60.,  59.,  87.,  86.,  86., 123., 147., 157., 167., 191.,\n",
       "        209., 200., 237., 283., 236., 312., 318., 333., 324., 348., 330.,\n",
       "        364., 348., 313., 344., 358., 319., 326., 293., 319., 254., 270.,\n",
       "        233., 185., 201., 162., 144., 123., 136., 123.,  91.,  74.,  80.,\n",
       "         57.,  60.,  38.,  42.,  27.,  28.,  20.,  17.,  16.,  16.,   7.,\n",
       "          4.,   6.,   7.,   3.,   1.,   2.,   1.,   1.,   0.,   0.,   0.,\n",
       "          1.,   0.,   0.,   0.,   1.,   0.,   1.,   0.,   0.,   0.,   0.,\n",
       "          1.]),\n",
       " array([-3.96214981, -3.87451847, -3.78688713, -3.69925578, -3.61162444,\n",
       "        -3.5239931 , -3.43636175, -3.34873041, -3.26109907, -3.17346772,\n",
       "        -3.08583638, -2.99820504, -2.91057369, -2.82294235, -2.73531101,\n",
       "        -2.64767966, -2.56004832, -2.47241698, -2.38478563, -2.29715429,\n",
       "        -2.20952295, -2.1218916 , -2.03426026, -1.94662892, -1.85899757,\n",
       "        -1.77136623, -1.68373489, -1.59610354, -1.5084722 , -1.42084086,\n",
       "        -1.33320951, -1.24557817, -1.15794683, -1.07031548, -0.98268414,\n",
       "        -0.8950528 , -0.80742145, -0.71979011, -0.63215877, -0.54452742,\n",
       "        -0.45689608, -0.36926474, -0.28163339, -0.19400205, -0.10637071,\n",
       "        -0.01873936,  0.06889198,  0.15652332,  0.24415467,  0.33178601,\n",
       "         0.41941735,  0.5070487 ,  0.59468004,  0.68231138,  0.76994273,\n",
       "         0.85757407,  0.94520541,  1.03283676,  1.1204681 ,  1.20809944,\n",
       "         1.29573079,  1.38336213,  1.47099347,  1.55862482,  1.64625616,\n",
       "         1.7338875 ,  1.82151885,  1.90915019,  1.99678153,  2.08441288,\n",
       "         2.17204422,  2.25967557,  2.34730691,  2.43493825,  2.5225696 ,\n",
       "         2.61020094,  2.69783228,  2.78546363,  2.87309497,  2.96072631,\n",
       "         3.04835766,  3.135989  ,  3.22362034,  3.31125169,  3.39888303,\n",
       "         3.48651437,  3.57414572,  3.66177706,  3.7494084 ,  3.83703975,\n",
       "         3.92467109,  4.01230243,  4.09993378,  4.18756512,  4.27519646,\n",
       "         4.36282781,  4.45045915,  4.53809049,  4.62572184,  4.71335318,\n",
       "         4.80098452]),\n",
       " <a list of 100 Patch objects>)"
      ]
     },
     "execution_count": 9,
     "metadata": {},
     "output_type": "execute_result"
    }
   ],
   "source": [
    "ax.hist(x, 100)  # generates a histogram of the 10000 numbers"
   ]
  },
  {
   "cell_type": "code",
   "execution_count": 10,
   "metadata": {},
   "outputs": [],
   "source": [
    "# add a title to the figure and save it\n",
    "ax.set_title(\"Normal distribution with $\\mu=0, \\sigma=1$\")\n",
    "fig.savefig(\"matplotlib_histogram.png\")"
   ]
  },
  {
   "cell_type": "markdown",
   "metadata": {},
   "source": [
    "# Scripting Layer"
   ]
  },
  {
   "cell_type": "code",
   "execution_count": 11,
   "metadata": {},
   "outputs": [],
   "source": [
    "import matplotlib.pyplot as plt\n",
    "import numpy as np"
   ]
  },
  {
   "cell_type": "code",
   "execution_count": 12,
   "metadata": {},
   "outputs": [
    {
     "data": {
      "image/png": "[encoded data removed]",
      "text/plain": [
       "<Figure size 432x288 with 1 Axes>"
      ]
     },
     "metadata": {
      "needs_background": "light"
     },
     "output_type": "display_data"
    }
   ],
   "source": [
    "x = np.random.randn(10000)\n",
    "plt.hist(x, 100)\n",
    "plt.title(r\"Normal distribution with $\\mu=0, \\sigma=1$\")\n",
    "plt.savefig(\"matplotlib_histogram_2.png\")\n",
    "plt.show()"
   ]
  },
  {
   "cell_type": "code",
   "execution_count": null,
   "metadata": {},
   "outputs": [],
   "source": []
  }
 ],
 "metadata": {
  "kernelspec": {
   "display_name": "Python 3",
   "language": "python",
   "name": "python3"
  },
  "language_info": {
   "codemirror_mode": {
    "name": "ipython",
    "version": 3
   },
   "file_extension": ".py",
   "mimetype": "text/x-python",
   "name": "python",
   "nbconvert_exporter": "python",
   "pygments_lexer": "ipython3",
   "version": "3.7.3"
  }
 },
 "nbformat": 4,
 "nbformat_minor": 2
}
